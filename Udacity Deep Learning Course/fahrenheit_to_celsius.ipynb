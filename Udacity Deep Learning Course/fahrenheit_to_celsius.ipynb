{
  "nbformat": 4,
  "nbformat_minor": 0,
  "metadata": {
    "colab": {
      "name": "fahrenheit_to_celsius.ipynb",
      "provenance": [],
      "collapsed_sections": []
    },
    "kernelspec": {
      "name": "python3",
      "display_name": "Python 3"
    },
    "language_info": {
      "name": "python"
    }
  },
  "cells": [
    {
      "cell_type": "code",
      "metadata": {
        "id": "1tPtyrvBC9wT"
      },
      "source": [
        "import tensorflow as tf\n",
        "import numpy as np\n",
        "import logging\n",
        "\n",
        "logger = tf.get_logger()\n",
        "logger.setLevel(logging.ERROR)"
      ],
      "execution_count": null,
      "outputs": []
    },
    {
      "cell_type": "code",
      "metadata": {
        "colab": {
          "base_uri": "https://localhost:8080/"
        },
        "id": "bAsxaWDpDjll",
        "outputId": "c34ce8ad-fb97-4dcf-8db5-ed8bb02f5b77"
      },
      "source": [
        "fahrenheit = np.array([-40,  14, 32, 46, 59, 72, 100], dtype=float)\n",
        "celsius = np.array([-40, -10,  0,  8, 15, 22,  38], dtype=float)\n",
        "\n",
        "for i,c in enumerate(fahrenheit):\n",
        "  print(\"{} degree F = {} degree C\".format(c, celsius[i]))"
      ],
      "execution_count": null,
      "outputs": [
        {
          "output_type": "stream",
          "text": [
            "-40.0 degree F = -40.0 degree C\n",
            "14.0 degree F = -10.0 degree C\n",
            "32.0 degree F = 0.0 degree C\n",
            "46.0 degree F = 8.0 degree C\n",
            "59.0 degree F = 15.0 degree C\n",
            "72.0 degree F = 22.0 degree C\n",
            "100.0 degree F = 38.0 degree C\n"
          ],
          "name": "stdout"
        }
      ]
    },
    {
      "cell_type": "markdown",
      "metadata": {
        "id": "7rgBj9UHIrLq"
      },
      "source": [
        "Training the model"
      ]
    },
    {
      "cell_type": "code",
      "metadata": {
        "colab": {
          "base_uri": "https://localhost:8080/"
        },
        "id": "oC1J0Gl-EgeV",
        "outputId": "ec6d3ab0-3174-4956-92ce-ffd97cbb49e5"
      },
      "source": [
        "layer0 = tf.keras.layers.Dense(units = 5, input_shape = [1])\n",
        "layer1 = tf.keras.layers.Dense(units = 5)\n",
        "layer2 = tf.keras.layers.Dense(units = 1)\n",
        "\n",
        "model = tf.keras.Sequential([layer0, layer1, layer2])\n",
        "model.compile(loss='mean_squared_error', optimizer = tf.keras.optimizers.Adam(0.1))\n",
        "model.fit(fahrenheit, celsius, epochs=500, verbose=False)\n",
        "print(\"Finished Training the model\")"
      ],
      "execution_count": null,
      "outputs": [
        {
          "output_type": "stream",
          "text": [
            "Finished Training the model\n"
          ],
          "name": "stdout"
        }
      ]
    },
    {
      "cell_type": "markdown",
      "metadata": {
        "id": "Tfr77vnaIoXA"
      },
      "source": [
        "Predict"
      ]
    },
    {
      "cell_type": "code",
      "metadata": {
        "colab": {
          "base_uri": "https://localhost:8080/"
        },
        "id": "2to4GGH5Hesx",
        "outputId": "83544972-2cf8-42bd-ac10-84d393132518"
      },
      "source": [
        "print(\"predict 100 F to C = {} \".format(model.predict([100])))\n",
        "print(\"predict 330 F to C = {} \".format(model.predict([330])))"
      ],
      "execution_count": null,
      "outputs": [
        {
          "output_type": "stream",
          "text": [
            "predict 100 F to C = [[37.846073]] \n",
            "predict 330 F to C = [[165.76494]] \n"
          ],
          "name": "stdout"
        }
      ]
    },
    {
      "cell_type": "markdown",
      "metadata": {
        "id": "gi3r8wSIIUkR"
      },
      "source": [
        "Weights of the Layers"
      ]
    },
    {
      "cell_type": "code",
      "metadata": {
        "colab": {
          "base_uri": "https://localhost:8080/"
        },
        "id": "0UURBpDyH8vN",
        "outputId": "3a4ec61a-c41e-43e4-c3e9-2dd23494fa90"
      },
      "source": [
        "print(\"These are the LAYER0 variables: {}\".format(layer0.get_weights()))\n",
        "print(\"These are the LAYER1 variables: {}\".format(layer1.get_weights()))\n",
        "print(\"These are the LAYER2 variables: {}\".format(layer2.get_weights()))"
      ],
      "execution_count": null,
      "outputs": [
        {
          "output_type": "stream",
          "text": [
            "These are the LAYER0 variables: [array([[ 0.03023216,  0.34324974,  0.21215118, -0.01976329,  0.18540762]],\n",
            "      dtype=float32), array([ 2.496868 , -3.6353388, -3.8103538, -3.2505405, -2.3130136],\n",
            "      dtype=float32)]\n",
            "These are the LAYER1 variables: [array([[ 0.6538095 ,  0.05033498,  0.06372172,  0.00859933, -0.30715472],\n",
            "       [-0.70104796, -0.24302748,  0.2866873 ,  0.44917187,  0.38657996],\n",
            "       [-0.09613351, -0.12379498,  0.91640335,  0.21946596,  0.00917035],\n",
            "       [-0.39247215,  0.65732086,  0.14990255,  0.4214858 ,  0.16938885],\n",
            "       [-0.51378655,  0.11093429,  0.7270441 , -0.15994005, -0.11372879]],\n",
            "      dtype=float32), array([ 2.2190328,  2.986789 , -2.5152602, -2.305115 ,  1.7229826],\n",
            "      dtype=float32)]\n",
            "These are the LAYER2 variables: [array([[-0.927096  ],\n",
            "       [-0.17448094],\n",
            "       [ 0.48455605],\n",
            "       [ 0.42140925],\n",
            "       [-0.41200298]], dtype=float32), array([-2.3553367], dtype=float32)]\n"
          ],
          "name": "stdout"
        }
      ]
    }
  ]
}