{
  "nbformat": 4,
  "nbformat_minor": 0,
  "metadata": {
    "colab": {
      "name": "FindSquareRoot.ipynb",
      "provenance": [],
      "collapsed_sections": [],
      "authorship_tag": "ABX9TyPnQVmjYSzGe87rbspz41BF",
      "include_colab_link": true
    },
    "kernelspec": {
      "name": "python3",
      "display_name": "Python 3"
    },
    "language_info": {
      "name": "python"
    },
    "accelerator": "GPU"
  },
  "cells": [
    {
      "cell_type": "markdown",
      "metadata": {
        "id": "view-in-github",
        "colab_type": "text"
      },
      "source": [
        "<a href=\"https://colab.research.google.com/github/Morologi3/Labs/blob/main/FindSquareRoot.ipynb\" target=\"_parent\"><img src=\"https://colab.research.google.com/assets/colab-badge.svg\" alt=\"Open In Colab\"/></a>"
      ]
    },
    {
      "cell_type": "code",
      "metadata": {
        "id": "QPStkxfQBssE"
      },
      "source": [
        "import tensorflow as tf\n",
        "import numpy as np\n",
        "import logging\n",
        "\n",
        "logger = tf.get_logger()\n",
        "logger.setLevel(logging.ERROR)"
      ],
      "execution_count": 1,
      "outputs": []
    },
    {
      "cell_type": "code",
      "metadata": {
        "colab": {
          "base_uri": "https://localhost:8080/"
        },
        "id": "T7Clekm-B8AK",
        "outputId": "99ebd12b-612f-4ce1-8546-38ce4c51d2f1"
      },
      "source": [
        "numbers = np.array([1, 4, 9, 16, 25, 36, 49])\n",
        "Root = np.array([1, 2, 3, 4, 5, 6, 7])\n",
        "\n",
        "for i,c in enumerate(numbers):\n",
        "  print(\"{} number = {} Root\".format(c, Root[i]))"
      ],
      "execution_count": 2,
      "outputs": [
        {
          "output_type": "stream",
          "text": [
            "1 number = 1 Root\n",
            "4 number = 2 Root\n",
            "9 number = 3 Root\n",
            "16 number = 4 Root\n",
            "25 number = 5 Root\n",
            "36 number = 6 Root\n",
            "49 number = 7 Root\n"
          ],
          "name": "stdout"
        }
      ]
    },
    {
      "cell_type": "code",
      "metadata": {
        "colab": {
          "base_uri": "https://localhost:8080/"
        },
        "id": "PPUEHXaAC2We",
        "outputId": "c4044fd2-be7e-4e67-888f-6ea7ec61baf9"
      },
      "source": [
        "layer0 = tf.keras.layers.Dense(units = 3, input_shape = [1])\n",
        "layer1 = tf.keras.layers.Dense(units = 3)\n",
        "layer2 = tf.keras.layers.Dense(units = 1)\n",
        "\n",
        "model = tf.keras.Sequential([layer0, layer1, layer2])\n",
        "model.compile(loss='mean_squared_error', optimizer = tf.keras.optimizers.Adam(0.1))\n",
        "model.fit(numbers, Root, epochs=500, verbose=False)\n",
        "print(\"Finished Training the model\")"
      ],
      "execution_count": 3,
      "outputs": [
        {
          "output_type": "stream",
          "text": [
            "Finished Training the model\n"
          ],
          "name": "stdout"
        }
      ]
    },
    {
      "cell_type": "code",
      "metadata": {
        "colab": {
          "base_uri": "https://localhost:8080/"
        },
        "id": "ZX1V-qIHDIWp",
        "outputId": "941dcd44-ec15-441a-b914-32b1c49e9aaf"
      },
      "source": [
        "print(\"predict Root of 29 = {} \".format(model.predict([29])))\n",
        "print(\"predict Root of 100 = {} \".format(model.predict([100])))"
      ],
      "execution_count": 4,
      "outputs": [
        {
          "output_type": "stream",
          "text": [
            "predict Root of 29 = [[5.0746284]] \n",
            "predict Root of 100 = [[13.552242]] \n"
          ],
          "name": "stdout"
        }
      ]
    },
    {
      "cell_type": "code",
      "metadata": {
        "colab": {
          "base_uri": "https://localhost:8080/"
        },
        "id": "tAZLV9ZZDf9i",
        "outputId": "c204d892-0465-45ec-9615-e06ce5aba698"
      },
      "source": [
        "print(\"These are the LAYER0 variables: {}\".format(layer0.get_weights()))\n",
        "print(\"These are the LAYER1 variables: {}\".format(layer1.get_weights()))\n",
        "print(\"These are the LAYER2 variables: {}\".format(layer2.get_weights()))"
      ],
      "execution_count": 5,
      "outputs": [
        {
          "output_type": "stream",
          "text": [
            "These are the LAYER0 variables: [array([[0.39444298, 0.0382189 , 0.0127658 ]], dtype=float32), array([ 0.82980806,  0.31252533, -0.3632645 ], dtype=float32)]\n",
            "These are the LAYER1 variables: [array([[-0.47360492,  0.33556977, -0.09478795],\n",
            "       [ 0.09860472, -1.4158285 ,  0.44709533],\n",
            "       [ 0.24711479,  1.027189  , -1.0976403 ]], dtype=float32), array([ 0.8785696,  1.3164895, -0.3766673], dtype=float32)]\n",
            "These are the LAYER2 variables: [array([[-0.3080198],\n",
            "       [ 0.8021093],\n",
            "       [ 0.2707449]], dtype=float32), array([1.0957338], dtype=float32)]\n"
          ],
          "name": "stdout"
        }
      ]
    }
  ]
}