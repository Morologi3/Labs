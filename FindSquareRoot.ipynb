{
  "nbformat": 4,
  "nbformat_minor": 0,
  "metadata": {
    "colab": {
      "name": "FindSquareRoot.ipynb",
      "provenance": [],
      "collapsed_sections": [],
      "authorship_tag": "ABX9TyOaurUb2mjCz7plTRq/N45W",
      "include_colab_link": true
    },
    "kernelspec": {
      "name": "python3",
      "display_name": "Python 3"
    },
    "language_info": {
      "name": "python"
    },
    "accelerator": "GPU"
  },
  "cells": [
    {
      "cell_type": "markdown",
      "metadata": {
        "id": "view-in-github",
        "colab_type": "text"
      },
      "source": [
        "<a href=\"https://colab.research.google.com/github/Morologi3/Labs/blob/main/FindSquareRoot.ipynb\" target=\"_parent\"><img src=\"https://colab.research.google.com/assets/colab-badge.svg\" alt=\"Open In Colab\"/></a>"
      ]
    },
    {
      "cell_type": "code",
      "metadata": {
        "id": "QPStkxfQBssE"
      },
      "source": [
        "import tensorflow as tf\n",
        "import numpy as np\n",
        "import logging\n",
        "\n",
        "logger = tf.get_logger()\n",
        "logger.setLevel(logging.ERROR)"
      ],
      "execution_count": 1,
      "outputs": []
    },
    {
      "cell_type": "code",
      "metadata": {
        "colab": {
          "base_uri": "https://localhost:8080/"
        },
        "id": "T7Clekm-B8AK",
        "outputId": "f2b743f3-fd26-45a7-adbf-cf867fef475d"
      },
      "source": [
        "numbers = np.array([1, 4, 9, 16, 25])\n",
        "Root = np.array([1, 2, 3, 4, 5])\n",
        "\n",
        "for i,c in enumerate(numbers):\n",
        "  print(\"{} number = {} Root\".format(c, Root[i]))"
      ],
      "execution_count": 2,
      "outputs": [
        {
          "output_type": "stream",
          "text": [
            "1 number = 1 Root\n",
            "4 number = 2 Root\n",
            "9 number = 3 Root\n",
            "16 number = 4 Root\n",
            "25 number = 5 Root\n"
          ],
          "name": "stdout"
        }
      ]
    },
    {
      "cell_type": "code",
      "metadata": {
        "colab": {
          "base_uri": "https://localhost:8080/"
        },
        "id": "PPUEHXaAC2We",
        "outputId": "791a3636-377f-4421-a77d-a617f6388202"
      },
      "source": [
        "layer0 = tf.keras.layers.Dense(units = 5, input_shape = [1])\n",
        "layer1 = tf.keras.layers.Dense(units = 5)\n",
        "layer2 = tf.keras.layers.Dense(units = 1)\n",
        "\n",
        "model = tf.keras.Sequential([layer0, layer1, layer2])\n",
        "model.compile(loss='mean_squared_error', optimizer = tf.keras.optimizers.Adam(0.1))\n",
        "model.fit(numbers, Root, epochs=500, verbose=False)\n",
        "print(\"Finished Training the model\")"
      ],
      "execution_count": 3,
      "outputs": [
        {
          "output_type": "stream",
          "text": [
            "Finished Training the model\n"
          ],
          "name": "stdout"
        }
      ]
    },
    {
      "cell_type": "code",
      "metadata": {
        "colab": {
          "base_uri": "https://localhost:8080/"
        },
        "id": "ZX1V-qIHDIWp",
        "outputId": "815ac4c5-4303-487a-fd68-96922008f30c"
      },
      "source": [
        "print(\"predict Root of 29 = {} \".format(model.predict([29])))\n",
        "print(\"predict Root of 100 = {} \".format(model.predict([100])))"
      ],
      "execution_count": 6,
      "outputs": [
        {
          "output_type": "stream",
          "text": [
            "predict Root of 29 = [[5.887701]] \n",
            "predict Root of 100 = [[17.278074]] \n"
          ],
          "name": "stdout"
        }
      ]
    },
    {
      "cell_type": "code",
      "metadata": {
        "colab": {
          "base_uri": "https://localhost:8080/"
        },
        "id": "tAZLV9ZZDf9i",
        "outputId": "f2086fd6-a088-4d04-efc7-21efd2aad3ff"
      },
      "source": [
        "print(\"These are the LAYER0 variables: {}\".format(layer0.get_weights()))\n",
        "print(\"These are the LAYER1 variables: {}\".format(layer1.get_weights()))\n",
        "print(\"These are the LAYER2 variables: {}\".format(layer2.get_weights()))"
      ],
      "execution_count": 7,
      "outputs": [
        {
          "output_type": "stream",
          "text": [
            "These are the LAYER0 variables: [array([[-0.03611937, -0.0625487 , -0.01920719,  0.15540585, -0.23026963]],\n",
            "      dtype=float32), array([ 0.42886633, -0.04474752, -0.32104895,  0.29633296,  0.1542804 ],\n",
            "      dtype=float32)]\n",
            "These are the LAYER1 variables: [array([[ 0.63067514, -0.01520525,  0.25129154,  0.42195067, -0.42785197],\n",
            "       [-0.439779  , -0.53499204,  0.24127683, -0.5470027 ,  0.20367275],\n",
            "       [-0.9905629 , -0.7043657 , -1.144112  ,  0.27847558,  0.11064601],\n",
            "       [ 0.21330437,  0.42641008,  0.18740197,  0.62179595,  0.08439844],\n",
            "       [ 0.20667012,  0.12496597, -0.18698135,  0.30086848, -0.79334784]],\n",
            "      dtype=float32), array([-0.19121516, -0.66122174, -0.6412061 , -0.52906716,  0.782297  ],\n",
            "      dtype=float32)]\n",
            "These are the LAYER2 variables: [array([[ 0.24672738],\n",
            "       [ 0.03651597],\n",
            "       [-0.04685743],\n",
            "       [ 0.3864311 ],\n",
            "       [ 0.72545046]], dtype=float32), array([0.85094714], dtype=float32)]\n"
          ],
          "name": "stdout"
        }
      ]
    }
  ]
}